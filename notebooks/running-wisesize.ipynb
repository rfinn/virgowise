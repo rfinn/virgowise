{
 "cells": [
  {
   "cell_type": "markdown",
   "metadata": {},
   "source": [
    "# Running wisesize #\n",
    "\n",
    "* goal of this notebook is to document instructions on how to run wisesize"
   ]
  },
  {
   "cell_type": "code",
   "execution_count": 7,
   "metadata": {},
   "outputs": [],
   "source": [
    "import os\n",
    "import numpy as np\n",
    "from matplotlib import pyplot as plt\n",
    "from astropy.io import fits\n",
    "import sys"
   ]
  },
  {
   "cell_type": "code",
   "execution_count": 16,
   "metadata": {},
   "outputs": [],
   "source": [
    "wisesize_path = '/Users/rfinn/github/virgowise/'\n",
    "sys.path.append(wisesize_path)\n"
   ]
  },
  {
   "cell_type": "code",
   "execution_count": 17,
   "metadata": {},
   "outputs": [],
   "source": [
    "orig_dir = os.getcwd()\n",
    "os.chdir('/Users/rfinn/research/VirgoFilaments/wise/wisesize')"
   ]
  },
  {
   "cell_type": "code",
   "execution_count": 18,
   "metadata": {},
   "outputs": [
    {
     "data": {
      "text/plain": [
       "'/Users/rfinn/research/VirgoFilaments/wise/wisesize'"
      ]
     },
     "execution_count": 18,
     "metadata": {},
     "output_type": "execute_result"
    }
   ],
   "source": [
    "os.getcwd()"
   ]
  },
  {
   "cell_type": "code",
   "execution_count": 29,
   "metadata": {},
   "outputs": [
    {
     "name": "stdout",
     "output_type": "stream",
     "text": [
      "number of galaxies in sample =  165\n"
     ]
    }
   ],
   "source": [
    "%run /Users/rfinn/github/virgowise/wisesize.py --getwise 3"
   ]
  },
  {
   "cell_type": "markdown",
   "metadata": {},
   "source": [
    "# First Step #\n",
    "\n",
    "* by running wisesize, the program loads the virgo region of the \n",
    "  - NSA file\n",
    "  - matching wise sample\n",
    "  - CO sample\n",
    "  \n",
    "* then sample is cut according to:\n",
    "```\n",
    "self.w3_flag = (self.wise.W3SNR>5) #& (self.wise.W3SNR < 5)  #was >10\n",
    "self.w4_flag = self.wise.W4SNR>0  #was >5    \n",
    "self.co_flag = self.co.COdetected == '1'\n",
    "self.sampleflag = self.w3_flag & self.w4_flag & self.co_flag\n",
    "```"
   ]
  },
  {
   "cell_type": "code",
   "execution_count": 32,
   "metadata": {},
   "outputs": [
    {
     "data": {
      "text/plain": [
       "174"
      ]
     },
     "execution_count": 32,
     "metadata": {},
     "output_type": "execute_result"
    }
   ],
   "source": [
    "sum(cats.co_flag)"
   ]
  },
  {
   "cell_type": "markdown",
   "metadata": {},
   "source": [
    "The list of nsa ids for the surviving galaxies is"
   ]
  },
  {
   "cell_type": "code",
   "execution_count": 33,
   "metadata": {},
   "outputs": [
    {
     "data": {
      "text/plain": [
       "array([  2473,  15199,  15333,  15339,  17878,  18048,  18153,  18301,\n",
       "        18363,  19809,  19883,  31426,  31560,  36290,  47220,  50207,\n",
       "        50379,  50569,  54578,  54612,  54619,  56403,  56408,  56409,\n",
       "        56434,  56456,  56462,  56469,  56478,  56482,  56483,  56488,\n",
       "        58969,  61674,  61690,  61691,  61692,  63326,  64280,  67567,\n",
       "        67593,  67595,  68462,  69842,  80186,  85153,  85367,  85541,\n",
       "        85631,  85746,  85977,  87086,  87097,  87100,  88353,  88792,\n",
       "        90053,  90176,  90222,  90956,  90957,  91427,  92459,  93951,\n",
       "        93963,  94217,  94340, 101276, 101649, 102983, 104307, 104439,\n",
       "       107148, 107442, 107609, 114557, 117685, 118414, 118647, 119289,\n",
       "       119759, 120018, 120053, 121129, 135051, 135465, 135594, 135797,\n",
       "       135808, 135852, 135928, 136042, 137460, 137625, 137993, 138221,\n",
       "       138642, 139467, 139741, 139967, 140004, 140301, 142509, 143305,\n",
       "       143701, 143827, 143841, 143856, 143951, 143986, 144043, 144056,\n",
       "       144114, 144118, 144151, 144923, 145218, 145433, 145554, 146236,\n",
       "       146289, 146317, 146344, 146488, 146842, 146848, 147100, 147543,\n",
       "       147731, 147742, 148194, 156774, 157480, 157495, 158347, 158541,\n",
       "       159779, 160613, 160627, 162674, 163136, 163803, 163956, 164201,\n",
       "       164223, 164224, 164358, 164836, 164865, 164911, 165082, 165115,\n",
       "       165147, 165200, 165654, 165707, 165750, 165862, 165980, 166168,\n",
       "       166278, 166280, 166297, 166330, 166548], dtype=int32)"
      ]
     },
     "execution_count": 33,
     "metadata": {},
     "output_type": "execute_result"
    }
   ],
   "source": [
    "listname"
   ]
  },
  {
   "cell_type": "code",
   "execution_count": 35,
   "metadata": {},
   "outputs": [
    {
     "name": "stdout",
     "output_type": "stream",
     "text": [
      "hello galaxy NSA  15199\n"
     ]
    }
   ],
   "source": [
    "g = galaxy(15199)"
   ]
  },
  {
   "cell_type": "code",
   "execution_count": null,
   "metadata": {},
   "outputs": [
    {
     "name": "stdout",
     "output_type": "stream",
     "text": [
      "['unwise-2208p015-w3-img-m.fits', 'unwise-2208p015-w3-invvar-m.fits.gz', 'unwise-2208p015-w3-n-m.fits.gz', 'unwise-2208p015-w3-std-m.fits.gz']\n",
      "self.rename =  NSA-15199-unwise-w3-std-m.fits.gz\n",
      "self.psfimage =  wise-w3-psf-wpro-09x09-05x05.fits\n",
      "***%%%%%%%%%%%%%%%%%\n",
      "inside galfit class\n",
      "0 100 0 100 50\n",
      "0 100 0 100 50\n",
      "psf_image =  wise-w3-psf-wpro-09x09-05x05.fits\n",
      "self.fitall =  0\n",
      "***%%%%%%%%%%%%%%%%%\n",
      "in rungalfit.run_galfit, self.psf_image =  wise-w3-psf-wpro-09x09-05x05.fits\n",
      "sersic n, fitsersicn =  2.7799265953106267 1\n",
      "BA, fitBA =  0.24543265969703354 1\n",
      "run the following:  galfit NSA-15199-unwise-w3-galfit.input.1Comp\n",
      "in rungalfit.run_galfit, self.psf_image =  wise-w3-psf-wpro-09x09-05x05.fits\n",
      "sersic n, fitsersicn =  3.206529395848089 1\n",
      "BA, fitBA =  0.5354388030776271 1\n",
      "run the following:  galfit NSA-15199-unwise-w3-galfit.input.1Comp\n",
      "appears like galfit did not complete\n",
      "in rungalfit.run_galfit, self.psf_image =  wise-w3-psf-wpro-09x09-05x05.fits\n",
      "sersic n, fitsersicn =  1.6865735701776252 1\n",
      "BA, fitBA =  0.44166918778454045 1\n",
      "run the following:  galfit NSA-15199-unwise-w3-galfit.input.1Comp\n",
      "appears like galfit did not complete\n",
      "in rungalfit.run_galfit, self.psf_image =  wise-w3-psf-wpro-09x09-05x05.fits\n",
      "sersic n, fitsersicn =  2.208756833261462 1\n",
      "BA, fitBA =  0.4260687026240614 1\n",
      "run the following:  galfit NSA-15199-unwise-w3-galfit.input.1Comp\n",
      "appears like galfit did not complete\n",
      "in rungalfit.run_galfit, self.psf_image =  wise-w3-psf-wpro-09x09-05x05.fits\n",
      "sersic n, fitsersicn =  4.191217538752352 1\n",
      "BA, fitBA =  0.03140312389508726 1\n",
      "run the following:  galfit NSA-15199-unwise-w3-galfit.input.1Comp\n",
      "appears like galfit did not complete\n",
      "in rungalfit.run_galfit, self.psf_image =  wise-w3-psf-wpro-09x09-05x05.fits\n",
      "sersic n, fitsersicn =  2.6126928685056376 1\n",
      "BA, fitBA =  0.11784018938318963 1\n",
      "run the following:  galfit NSA-15199-unwise-w3-galfit.input.1Comp\n",
      "appears like galfit did not complete\n",
      "in rungalfit.run_galfit, self.psf_image =  wise-w3-psf-wpro-09x09-05x05.fits\n",
      "sersic n, fitsersicn =  1.006049123104474 1\n",
      "BA, fitBA =  0.3073339428540408 1\n",
      "run the following:  galfit NSA-15199-unwise-w3-galfit.input.1Comp\n"
     ]
    }
   ],
   "source": [
    "g.run_dmc()"
   ]
  },
  {
   "cell_type": "code",
   "execution_count": null,
   "metadata": {},
   "outputs": [],
   "source": [
    "!galfit NSA-15199-unwise-w3-galfit.input.1Comp"
   ]
  },
  {
   "cell_type": "code",
   "execution_count": null,
   "metadata": {},
   "outputs": [],
   "source": []
  }
 ],
 "metadata": {
  "kernelspec": {
   "display_name": "Python 3",
   "language": "python",
   "name": "python3"
  },
  "language_info": {
   "codemirror_mode": {
    "name": "ipython",
    "version": 3
   },
   "file_extension": ".py",
   "mimetype": "text/x-python",
   "name": "python",
   "nbconvert_exporter": "python",
   "pygments_lexer": "ipython3",
   "version": "3.7.3"
  }
 },
 "nbformat": 4,
 "nbformat_minor": 2
}
