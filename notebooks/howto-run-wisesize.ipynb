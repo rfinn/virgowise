{
 "cells": [
  {
   "cell_type": "markdown",
   "metadata": {},
   "source": [
    "# Modeling WISE Images with GALFIT #\n"
   ]
  },
  {
   "cell_type": "code",
   "execution_count": 1,
   "metadata": {},
   "outputs": [],
   "source": [
    "import numpy as np\n",
    "from matplotlib import pyplot as plt\n",
    "import os\n",
    "from astropy.table import Table"
   ]
  },
  {
   "cell_type": "code",
   "execution_count": 2,
   "metadata": {},
   "outputs": [],
   "source": [
    "homedir = os.getenv(\"HOME\")"
   ]
  },
  {
   "cell_type": "markdown",
   "metadata": {},
   "source": [
    "# Setting up path and names for Virgo Catalogs #\n",
    "\n",
    "- set the table dir to point to the Virgo directory where you are storing the tables\n",
    "- the table prefix is set to 'vf_north_v0_'.  You might need to update this as the table versions are updated."
   ]
  },
  {
   "cell_type": "code",
   "execution_count": 3,
   "metadata": {},
   "outputs": [],
   "source": [
    "tabledir = homedir+'/research/Virgo/tables-north/v0/'\n",
    "tableprefix = 'vf_north_v0_'"
   ]
  },
  {
   "cell_type": "markdown",
   "metadata": {},
   "source": [
    "# Read in Virgo Catalogs #\n",
    "\n",
    "- we will need the main file\n",
    "- and maybe unwise table?"
   ]
  },
  {
   "cell_type": "code",
   "execution_count": 4,
   "metadata": {},
   "outputs": [],
   "source": [
    "vfmain = Table.read(tabledir+tableprefix+'main.fits')\n",
    "vfunwise = Table.read(tabledir+tableprefix+'main_unwise.fits')\n",
    "vfz0mgs = Table.read(tabledir+tableprefix+'z0mgs.fits')"
   ]
  },
  {
   "cell_type": "code",
   "execution_count": 5,
   "metadata": {
    "scrolled": true
   },
   "outputs": [
    {
     "data": {
      "text/html": [
       "<i>Table length=6860</i>\n",
       "<table id=\"table139728039718096\" class=\"table-striped table-bordered table-condensed\">\n",
       "<thead><tr><th>VFID</th><th>RA</th><th>DEC</th><th>vr</th><th>radius</th><th>radius_flag</th><th>objname</th><th>NSAID</th><th>NSAIDV0</th><th>AGC</th><th>NEDname</th><th>HLflag</th><th>NSAflag</th><th>NSAV0flag</th><th>A100flag</th><th>COflag</th><th>HAflag</th><th>HAobsflag</th><th>Z0MGSflag</th><th>Steerflag</th><th>unwiseflag</th><th>prefix</th><th>name</th></tr></thead>\n",
       "<thead><tr><th></th><th></th><th></th><th></th><th>arcsec</th><th></th><th></th><th></th><th></th><th></th><th></th><th></th><th></th><th></th><th></th><th></th><th></th><th></th><th></th><th></th><th></th><th></th><th></th></tr></thead>\n",
       "<thead><tr><th>bytes8</th><th>float32</th><th>float32</th><th>float32</th><th>float32</th><th>bool</th><th>bytes28</th><th>int32</th><th>int32</th><th>int64</th><th>bytes30</th><th>bool</th><th>bool</th><th>bool</th><th>bool</th><th>bool</th><th>bool</th><th>bool</th><th>bool</th><th>bool</th><th>bool</th><th>bytes38</th><th>bytes8</th></tr></thead>\n",
       "<tr><td>VFID0000</td><td>185.86877</td><td>74.95225</td><td>1418.8</td><td>23.829847</td><td>True</td><td>NGC4363</td><td>0</td><td>0</td><td>0</td><td>NGC 4363</td><td>True</td><td>False</td><td>False</td><td>False</td><td>False</td><td>False</td><td>False</td><td>True</td><td>False</td><td>False</td><td>VFID0000-NGC4363</td><td>VFID0000</td></tr>\n",
       "<tr><td>VFID0001</td><td>182.208</td><td>74.904274</td><td>1331.5</td><td>49.6731</td><td>True</td><td>NGC4133</td><td>0</td><td>0</td><td>0</td><td>NGC 4133</td><td>True</td><td>False</td><td>False</td><td>False</td><td>False</td><td>False</td><td>False</td><td>True</td><td>True</td><td>False</td><td>VFID0001-NGC4133</td><td>VFID0001</td></tr>\n",
       "<tr><td>VFID0002</td><td>145.94466</td><td>74.85958</td><td>3049.4</td><td>62.3909</td><td>True</td><td>NGC2977</td><td>0</td><td>0</td><td>0</td><td>NGC 2977</td><td>True</td><td>False</td><td>False</td><td>False</td><td>False</td><td>False</td><td>False</td><td>True</td><td>True</td><td>False</td><td>VFID0002-NGC2977</td><td>VFID0002</td></tr>\n",
       "<tr><td>VFID0003</td><td>185.57309</td><td>74.83839</td><td>1833.0</td><td>26.128908</td><td>True</td><td>PGC040048</td><td>0</td><td>0</td><td>0</td><td>CGCG 352-030</td><td>True</td><td>False</td><td>False</td><td>False</td><td>False</td><td>False</td><td>False</td><td>True</td><td>False</td><td>False</td><td>VFID0003-CGCG352-030</td><td>VFID0003</td></tr>\n",
       "<tr><td>VFID0004</td><td>182.82774</td><td>74.80822</td><td>1683.0</td><td>40.937492</td><td>True</td><td>UGC07189</td><td>0</td><td>0</td><td>0</td><td>UGC 07189</td><td>True</td><td>False</td><td>False</td><td>False</td><td>False</td><td>False</td><td>False</td><td>True</td><td>False</td><td>False</td><td>VFID0004-UGC07189</td><td>VFID0004</td></tr>\n",
       "<tr><td>VFID0005</td><td>173.13419</td><td>74.62754</td><td>1920.1</td><td>48.654305</td><td>True</td><td>NGC3752</td><td>0</td><td>0</td><td>0</td><td>NGC 3752</td><td>True</td><td>False</td><td>False</td><td>False</td><td>False</td><td>False</td><td>False</td><td>True</td><td>True</td><td>True</td><td>VFID0005-NGC3752</td><td>VFID0005</td></tr>\n",
       "<tr><td>VFID0006</td><td>121.91241</td><td>74.58463</td><td>2333.0</td><td>26.984928</td><td>True</td><td>UGC04202</td><td>0</td><td>0</td><td>0</td><td>UGC 04202</td><td>True</td><td>False</td><td>False</td><td>False</td><td>False</td><td>False</td><td>False</td><td>True</td><td>True</td><td>False</td><td>VFID0006-UGC04202</td><td>VFID0006</td></tr>\n",
       "<tr><td>VFID0007</td><td>118.2363</td><td>74.57653</td><td>2346.0</td><td>23.448833</td><td>True</td><td>PGC022064</td><td>0</td><td>0</td><td>0</td><td>KUG 0746+747</td><td>True</td><td>False</td><td>False</td><td>False</td><td>False</td><td>False</td><td>False</td><td>True</td><td>False</td><td>False</td><td>VFID0007-KUG0746+747</td><td>VFID0007</td></tr>\n",
       "<tr><td>VFID0008</td><td>274.94318</td><td>74.56839</td><td>1484.5</td><td>99.56834</td><td>True</td><td>NGC6643</td><td>0</td><td>0</td><td>0</td><td>NGC 6643</td><td>True</td><td>False</td><td>False</td><td>False</td><td>False</td><td>False</td><td>False</td><td>True</td><td>True</td><td>False</td><td>VFID0008-NGC6643</td><td>VFID0008</td></tr>\n",
       "<tr><td>...</td><td>...</td><td>...</td><td>...</td><td>...</td><td>...</td><td>...</td><td>...</td><td>...</td><td>...</td><td>...</td><td>...</td><td>...</td><td>...</td><td>...</td><td>...</td><td>...</td><td>...</td><td>...</td><td>...</td><td>...</td><td>...</td><td>...</td></tr>\n",
       "<tr><td>VFID6850</td><td>190.73863</td><td>-1.2293804</td><td>3213.8</td><td>76.22918</td><td>True</td><td>UGC07883</td><td>8920</td><td>1568</td><td>0</td><td>UGC 07883</td><td>True</td><td>True</td><td>True</td><td>False</td><td>False</td><td>False</td><td>False</td><td>True</td><td>True</td><td>True</td><td>VFID6850-UGC07883</td><td>VFID6850</td></tr>\n",
       "<tr><td>VFID6851</td><td>215.62787</td><td>-1.2293984</td><td>1745.2</td><td>15.926534</td><td>True</td><td>PGC1123741</td><td>631635</td><td>144960</td><td>0</td><td>WISEA J142230.70-011345.2</td><td>True</td><td>True</td><td>True</td><td>False</td><td>False</td><td>False</td><td>False</td><td>False</td><td>False</td><td>True</td><td>VFID6851-WISEAJ142230.70-011345.2</td><td>VFID6851</td></tr>\n",
       "<tr><td>VFID6852</td><td>163.18935</td><td>-1.2314</td><td>929.0</td><td>10.648694</td><td>True</td><td>PGC3286596</td><td>625465</td><td>138257</td><td>0</td><td>WISEA J105245.44-011353.0</td><td>True</td><td>True</td><td>True</td><td>False</td><td>False</td><td>False</td><td>False</td><td>False</td><td>False</td><td>True</td><td>VFID6852-WISEAJ105245.44-011353.0</td><td>VFID6852</td></tr>\n",
       "<tr><td>VFID6853</td><td>191.5875</td><td>-1.2501285</td><td>2779.2</td><td>9.933933</td><td>True</td><td>PGC1123239</td><td>8840</td><td>1564</td><td>0</td><td>WISEA J124620.96-011500.3</td><td>True</td><td>True</td><td>True</td><td>False</td><td>False</td><td>False</td><td>False</td><td>False</td><td>False</td><td>True</td><td>VFID6853-WISEAJ124620.96-011500.3</td><td>VFID6853</td></tr>\n",
       "<tr><td>VFID6854</td><td>186.59453</td><td>-1.2542672</td><td>1982.7</td><td>14.458434</td><td>True</td><td>PGC040683</td><td>628312</td><td>141357</td><td>0</td><td>UM 501</td><td>True</td><td>True</td><td>True</td><td>False</td><td>False</td><td>False</td><td>False</td><td>False</td><td>False</td><td>True</td><td>VFID6854-UM501</td><td>VFID6854</td></tr>\n",
       "<tr><td>VFID6855</td><td>175.93983</td><td>-1.2766024</td><td>1699.8</td><td>30.0</td><td>False</td><td>GAMA143446</td><td>0</td><td>0</td><td>0</td><td>GAMA 143446</td><td>True</td><td>False</td><td>False</td><td>False</td><td>False</td><td>False</td><td>False</td><td>False</td><td>False</td><td>True</td><td>VFID6855-GAMA143446</td><td>VFID6855</td></tr>\n",
       "<tr><td>VFID6856</td><td>170.0766</td><td>-1.2806</td><td>2758.0</td><td>10.394707</td><td>True</td><td>PGC3288547</td><td>659271</td><td>159635</td><td>0</td><td>WISEA J112018.30-011650.6</td><td>True</td><td>True</td><td>True</td><td>False</td><td>False</td><td>False</td><td>False</td><td>False</td><td>False</td><td>True</td><td>VFID6856-WISEAJ112018.30-011650.6</td><td>VFID6856</td></tr>\n",
       "<tr><td>VFID6857</td><td>183.4117</td><td>-1.2935266</td><td>2430.5</td><td>7.6404905</td><td>True</td><td>PGC1122171</td><td>627938</td><td>140947</td><td>0</td><td>WISEA J121338.81-011736.9</td><td>True</td><td>True</td><td>True</td><td>False</td><td>False</td><td>False</td><td>False</td><td>False</td><td>False</td><td>True</td><td>VFID6857-WISEAJ121338.81-011736.9</td><td>VFID6857</td></tr>\n",
       "<tr><td>VFID6858</td><td>187.44257</td><td>-1.2951077</td><td>2260.5</td><td>19.369627</td><td>True</td><td>PGC135806</td><td>19673</td><td>3481</td><td>0</td><td>WISEA J122946.30-011741.6</td><td>True</td><td>True</td><td>True</td><td>False</td><td>False</td><td>False</td><td>False</td><td>False</td><td>False</td><td>True</td><td>VFID6858-WISEAJ122946.30-011741.6</td><td>VFID6858</td></tr>\n",
       "<tr><td>VFID6859</td><td>180.2962</td><td>-1.2961195</td><td>1487.4</td><td>26.008856</td><td>True</td><td>UGC07000</td><td>695480</td><td>171514</td><td>0</td><td>UGC 07000</td><td>True</td><td>True</td><td>True</td><td>False</td><td>False</td><td>False</td><td>False</td><td>True</td><td>False</td><td>True</td><td>VFID6859-UGC07000</td><td>VFID6859</td></tr>\n",
       "</table>"
      ],
      "text/plain": [
       "<Table length=6860>\n",
       "  VFID       RA       DEC     ...               prefix                name  \n",
       "                              ...                                           \n",
       " bytes8   float32   float32   ...              bytes38               bytes8 \n",
       "-------- --------- ---------- ... --------------------------------- --------\n",
       "VFID0000 185.86877   74.95225 ...                  VFID0000-NGC4363 VFID0000\n",
       "VFID0001   182.208  74.904274 ...                  VFID0001-NGC4133 VFID0001\n",
       "VFID0002 145.94466   74.85958 ...                  VFID0002-NGC2977 VFID0002\n",
       "VFID0003 185.57309   74.83839 ...              VFID0003-CGCG352-030 VFID0003\n",
       "VFID0004 182.82774   74.80822 ...                 VFID0004-UGC07189 VFID0004\n",
       "VFID0005 173.13419   74.62754 ...                  VFID0005-NGC3752 VFID0005\n",
       "VFID0006 121.91241   74.58463 ...                 VFID0006-UGC04202 VFID0006\n",
       "VFID0007  118.2363   74.57653 ...              VFID0007-KUG0746+747 VFID0007\n",
       "VFID0008 274.94318   74.56839 ...                  VFID0008-NGC6643 VFID0008\n",
       "     ...       ...        ... ...                               ...      ...\n",
       "VFID6850 190.73863 -1.2293804 ...                 VFID6850-UGC07883 VFID6850\n",
       "VFID6851 215.62787 -1.2293984 ... VFID6851-WISEAJ142230.70-011345.2 VFID6851\n",
       "VFID6852 163.18935    -1.2314 ... VFID6852-WISEAJ105245.44-011353.0 VFID6852\n",
       "VFID6853  191.5875 -1.2501285 ... VFID6853-WISEAJ124620.96-011500.3 VFID6853\n",
       "VFID6854 186.59453 -1.2542672 ...                    VFID6854-UM501 VFID6854\n",
       "VFID6855 175.93983 -1.2766024 ...               VFID6855-GAMA143446 VFID6855\n",
       "VFID6856  170.0766    -1.2806 ... VFID6856-WISEAJ112018.30-011650.6 VFID6856\n",
       "VFID6857  183.4117 -1.2935266 ... VFID6857-WISEAJ121338.81-011736.9 VFID6857\n",
       "VFID6858 187.44257 -1.2951077 ... VFID6858-WISEAJ122946.30-011741.6 VFID6858\n",
       "VFID6859  180.2962 -1.2961195 ...                 VFID6859-UGC07000 VFID6859"
      ]
     },
     "execution_count": 5,
     "metadata": {},
     "output_type": "execute_result"
    }
   ],
   "source": [
    "vfmain"
   ]
  },
  {
   "cell_type": "code",
   "execution_count": 6,
   "metadata": {
    "scrolled": true
   },
   "outputs": [
    {
     "data": {
      "text/html": [
       "<i>Table masked=True length=6860</i>\n",
       "<table id=\"table139728046662864\" class=\"table-striped table-bordered table-condensed\">\n",
       "<thead><tr><th>VFID_1</th><th>RA_1</th><th>DEC_1</th><th>vr_1</th><th>objname_1</th><th>NSAID_1</th><th>AGC_1</th><th>NEDname_1</th><th>HLflag_1</th><th>NSAflag_1</th><th>A100flag_1</th><th>COflag</th><th>Z0MGSflag</th><th>Steerflag</th><th>objid</th><th>ra_2</th><th>dec_2</th><th>run</th><th>camcol</th><th>field</th><th>raerr</th><th>decerr</th><th>pointsource</th><th>treated_as_pointsource</th><th>x</th><th>y</th><th>coadd_id</th><th>w1_nanomaggies</th><th>w1_nanomaggies_ivar</th><th>w1_mag</th><th>w1_mag_err</th><th>w1_prochi2</th><th>w1_pronpix</th><th>w1_profracflux</th><th>w1_proflux</th><th>w1_npix</th><th>w1_pronexp</th><th>w2_nanomaggies</th><th>w2_nanomaggies_ivar</th><th>w2_mag</th><th>w2_mag_err</th><th>w2_prochi2</th><th>w2_pronpix</th><th>w2_profracflux</th><th>w2_proflux</th><th>w2_npix</th><th>w2_pronexp</th><th>w3_nanomaggies</th><th>w3_nanomaggies_ivar</th><th>w3_mag</th><th>w3_mag_err</th><th>w3_prochi2</th><th>w3_pronpix</th><th>w3_profracflux</th><th>w3_proflux</th><th>w3_npix</th><th>w3_pronexp</th><th>w4_nanomaggies</th><th>w4_nanomaggies_ivar</th><th>w4_mag</th><th>w4_mag_err</th><th>w4_prochi2</th><th>w4_pronpix</th><th>w4_profracflux</th><th>w4_proflux</th><th>w4_npix</th><th>w4_pronexp</th><th>vfid_2</th><th>vr_2</th><th>objname_2</th><th>nsaid_2</th><th>agc_2</th><th>nedname_2</th><th>hlflag_2</th><th>nsaflag_2</th><th>a100flag_2</th><th>vf_index</th><th>ra_vf</th><th>dec_vf</th><th>GroupID</th><th>GroupSize</th><th>Separation</th></tr></thead>\n",
       "<thead><tr><th></th><th></th><th></th><th></th><th></th><th></th><th></th><th></th><th></th><th></th><th></th><th></th><th></th><th></th><th></th><th></th><th></th><th></th><th></th><th></th><th></th><th></th><th></th><th></th><th></th><th></th><th></th><th></th><th></th><th></th><th></th><th></th><th></th><th></th><th></th><th></th><th></th><th></th><th></th><th></th><th></th><th></th><th></th><th></th><th></th><th></th><th></th><th></th><th></th><th></th><th></th><th></th><th></th><th></th><th></th><th></th><th></th><th></th><th></th><th></th><th></th><th></th><th></th><th></th><th></th><th></th><th></th><th></th><th></th><th></th><th></th><th></th><th></th><th></th><th></th><th></th><th></th><th></th><th></th><th></th><th></th><th>arcsec</th></tr></thead>\n",
       "<thead><tr><th>bytes8</th><th>float32</th><th>float32</th><th>float32</th><th>bytes28</th><th>int32</th><th>int64</th><th>bytes30</th><th>bool</th><th>bool</th><th>bool</th><th>bool</th><th>bool</th><th>bool</th><th>bytes19</th><th>float64</th><th>float64</th><th>int16</th><th>uint8</th><th>int16</th><th>float64</th><th>float64</th><th>uint8</th><th>uint8</th><th>float32</th><th>float32</th><th>bytes8</th><th>float32</th><th>float32</th><th>float32</th><th>float32</th><th>float32</th><th>float32</th><th>float32</th><th>float32</th><th>float32</th><th>float32</th><th>float32</th><th>float32</th><th>float32</th><th>float32</th><th>float32</th><th>float32</th><th>float32</th><th>float32</th><th>float32</th><th>float32</th><th>float32</th><th>float32</th><th>float32</th><th>float32</th><th>float32</th><th>float32</th><th>float32</th><th>float32</th><th>float32</th><th>float32</th><th>float32</th><th>float32</th><th>float32</th><th>float32</th><th>float32</th><th>float32</th><th>float32</th><th>float32</th><th>float32</th><th>float32</th><th>int64</th><th>float32</th><th>bytes28</th><th>int32</th><th>int64</th><th>bytes25</th><th>bool</th><th>bool</th><th>bool</th><th>int64</th><th>float32</th><th>float32</th><th>int32</th><th>int32</th><th>float64</th></tr></thead>\n",
       "<tr><td>VFID0000</td><td>185.86877</td><td>74.95225</td><td>1418.8</td><td>NGC4363</td><td>0</td><td>0</td><td>NGC 4363</td><td>True</td><td>False</td><td>False</td><td>False</td><td>True</td><td>False</td><td></td><td>nan</td><td>nan</td><td>--</td><td>--</td><td>--</td><td>nan</td><td>nan</td><td>--</td><td>--</td><td>nan</td><td>nan</td><td></td><td>nan</td><td>nan</td><td>nan</td><td>nan</td><td>nan</td><td>nan</td><td>nan</td><td>nan</td><td>nan</td><td>nan</td><td>nan</td><td>nan</td><td>nan</td><td>nan</td><td>nan</td><td>nan</td><td>nan</td><td>nan</td><td>nan</td><td>nan</td><td>nan</td><td>nan</td><td>nan</td><td>nan</td><td>nan</td><td>nan</td><td>nan</td><td>nan</td><td>nan</td><td>nan</td><td>nan</td><td>nan</td><td>nan</td><td>nan</td><td>nan</td><td>nan</td><td>nan</td><td>nan</td><td>nan</td><td>nan</td><td>--</td><td>nan</td><td></td><td>--</td><td>--</td><td></td><td>False</td><td>False</td><td>False</td><td>--</td><td>nan</td><td>nan</td><td>--</td><td>--</td><td>nan</td></tr>\n",
       "<tr><td>VFID0001</td><td>182.208</td><td>74.904274</td><td>1331.5</td><td>NGC4133</td><td>0</td><td>0</td><td>NGC 4133</td><td>True</td><td>False</td><td>False</td><td>False</td><td>True</td><td>True</td><td></td><td>nan</td><td>nan</td><td>--</td><td>--</td><td>--</td><td>nan</td><td>nan</td><td>--</td><td>--</td><td>nan</td><td>nan</td><td></td><td>nan</td><td>nan</td><td>nan</td><td>nan</td><td>nan</td><td>nan</td><td>nan</td><td>nan</td><td>nan</td><td>nan</td><td>nan</td><td>nan</td><td>nan</td><td>nan</td><td>nan</td><td>nan</td><td>nan</td><td>nan</td><td>nan</td><td>nan</td><td>nan</td><td>nan</td><td>nan</td><td>nan</td><td>nan</td><td>nan</td><td>nan</td><td>nan</td><td>nan</td><td>nan</td><td>nan</td><td>nan</td><td>nan</td><td>nan</td><td>nan</td><td>nan</td><td>nan</td><td>nan</td><td>nan</td><td>nan</td><td>--</td><td>nan</td><td></td><td>--</td><td>--</td><td></td><td>False</td><td>False</td><td>False</td><td>--</td><td>nan</td><td>nan</td><td>--</td><td>--</td><td>nan</td></tr>\n",
       "<tr><td>VFID0002</td><td>145.94466</td><td>74.85958</td><td>3049.4</td><td>NGC2977</td><td>0</td><td>0</td><td>NGC 2977</td><td>True</td><td>False</td><td>False</td><td>False</td><td>True</td><td>True</td><td></td><td>nan</td><td>nan</td><td>--</td><td>--</td><td>--</td><td>nan</td><td>nan</td><td>--</td><td>--</td><td>nan</td><td>nan</td><td></td><td>nan</td><td>nan</td><td>nan</td><td>nan</td><td>nan</td><td>nan</td><td>nan</td><td>nan</td><td>nan</td><td>nan</td><td>nan</td><td>nan</td><td>nan</td><td>nan</td><td>nan</td><td>nan</td><td>nan</td><td>nan</td><td>nan</td><td>nan</td><td>nan</td><td>nan</td><td>nan</td><td>nan</td><td>nan</td><td>nan</td><td>nan</td><td>nan</td><td>nan</td><td>nan</td><td>nan</td><td>nan</td><td>nan</td><td>nan</td><td>nan</td><td>nan</td><td>nan</td><td>nan</td><td>nan</td><td>nan</td><td>--</td><td>nan</td><td></td><td>--</td><td>--</td><td></td><td>False</td><td>False</td><td>False</td><td>--</td><td>nan</td><td>nan</td><td>--</td><td>--</td><td>nan</td></tr>\n",
       "<tr><td>VFID0003</td><td>185.57309</td><td>74.83839</td><td>1833.0</td><td>PGC040048</td><td>0</td><td>0</td><td>CGCG 352-030</td><td>True</td><td>False</td><td>False</td><td>False</td><td>True</td><td>False</td><td></td><td>nan</td><td>nan</td><td>--</td><td>--</td><td>--</td><td>nan</td><td>nan</td><td>--</td><td>--</td><td>nan</td><td>nan</td><td></td><td>nan</td><td>nan</td><td>nan</td><td>nan</td><td>nan</td><td>nan</td><td>nan</td><td>nan</td><td>nan</td><td>nan</td><td>nan</td><td>nan</td><td>nan</td><td>nan</td><td>nan</td><td>nan</td><td>nan</td><td>nan</td><td>nan</td><td>nan</td><td>nan</td><td>nan</td><td>nan</td><td>nan</td><td>nan</td><td>nan</td><td>nan</td><td>nan</td><td>nan</td><td>nan</td><td>nan</td><td>nan</td><td>nan</td><td>nan</td><td>nan</td><td>nan</td><td>nan</td><td>nan</td><td>nan</td><td>nan</td><td>--</td><td>nan</td><td></td><td>--</td><td>--</td><td></td><td>False</td><td>False</td><td>False</td><td>--</td><td>nan</td><td>nan</td><td>--</td><td>--</td><td>nan</td></tr>\n",
       "<tr><td>VFID0004</td><td>182.82774</td><td>74.80822</td><td>1683.0</td><td>UGC07189</td><td>0</td><td>0</td><td>UGC 07189</td><td>True</td><td>False</td><td>False</td><td>False</td><td>True</td><td>False</td><td></td><td>nan</td><td>nan</td><td>--</td><td>--</td><td>--</td><td>nan</td><td>nan</td><td>--</td><td>--</td><td>nan</td><td>nan</td><td></td><td>nan</td><td>nan</td><td>nan</td><td>nan</td><td>nan</td><td>nan</td><td>nan</td><td>nan</td><td>nan</td><td>nan</td><td>nan</td><td>nan</td><td>nan</td><td>nan</td><td>nan</td><td>nan</td><td>nan</td><td>nan</td><td>nan</td><td>nan</td><td>nan</td><td>nan</td><td>nan</td><td>nan</td><td>nan</td><td>nan</td><td>nan</td><td>nan</td><td>nan</td><td>nan</td><td>nan</td><td>nan</td><td>nan</td><td>nan</td><td>nan</td><td>nan</td><td>nan</td><td>nan</td><td>nan</td><td>nan</td><td>--</td><td>nan</td><td></td><td>--</td><td>--</td><td></td><td>False</td><td>False</td><td>False</td><td>--</td><td>nan</td><td>nan</td><td>--</td><td>--</td><td>nan</td></tr>\n",
       "<tr><td>VFID0005</td><td>173.13419</td><td>74.62754</td><td>1920.1</td><td>NGC3752</td><td>0</td><td>0</td><td>NGC 3752</td><td>True</td><td>False</td><td>False</td><td>False</td><td>True</td><td>True</td><td>1237671686936461455</td><td>173.1344112368449</td><td>74.62730659917023</td><td>6103</td><td>4</td><td>104</td><td>0.023551183309488816</td><td>0.016304703581321363</td><td>0</td><td>0</td><td>1570.8195</td><td>1579.9753</td><td>1747p742</td><td>91223.164</td><td>0.00043761247</td><td>10.099737</td><td>0.0005689503</td><td>339.42264</td><td>0.9505868</td><td>0.00036290142</td><td>33.105</td><td>1994.0</td><td>42.865833</td><td>95767.32</td><td>4.9953782e-05</td><td>10.046957</td><td>0.0016040679</td><td>48.08065</td><td>0.9238895</td><td>0.00038721002</td><td>37.082092</td><td>1243.0</td><td>42.263596</td><td>2126363.0</td><td>2.2450859e-08</td><td>6.6809063</td><td>0.0034077712</td><td>15.556739</td><td>0.87820596</td><td>0.00037191898</td><td>790.835</td><td>1437.0</td><td>24.805756</td><td>8856857.0</td><td>4.747948e-11</td><td>5.131801</td><td>0.017790647</td><td>2.4220376</td><td>0.95292103</td><td>0.00038766276</td><td>3433.4734</td><td>1185.0</td><td>21.806858</td><td>2589</td><td>1920.1</td><td>NGC3752</td><td>0</td><td>0</td><td>NGC 3752</td><td>True</td><td>False</td><td>False</td><td>2589</td><td>173.13419</td><td>74.62754</td><td>--</td><td>--</td><td>0.8694036742732427</td></tr>\n",
       "<tr><td>VFID0006</td><td>121.91241</td><td>74.58463</td><td>2333.0</td><td>UGC04202</td><td>0</td><td>0</td><td>UGC 04202</td><td>True</td><td>False</td><td>False</td><td>False</td><td>True</td><td>True</td><td></td><td>nan</td><td>nan</td><td>--</td><td>--</td><td>--</td><td>nan</td><td>nan</td><td>--</td><td>--</td><td>nan</td><td>nan</td><td></td><td>nan</td><td>nan</td><td>nan</td><td>nan</td><td>nan</td><td>nan</td><td>nan</td><td>nan</td><td>nan</td><td>nan</td><td>nan</td><td>nan</td><td>nan</td><td>nan</td><td>nan</td><td>nan</td><td>nan</td><td>nan</td><td>nan</td><td>nan</td><td>nan</td><td>nan</td><td>nan</td><td>nan</td><td>nan</td><td>nan</td><td>nan</td><td>nan</td><td>nan</td><td>nan</td><td>nan</td><td>nan</td><td>nan</td><td>nan</td><td>nan</td><td>nan</td><td>nan</td><td>nan</td><td>nan</td><td>nan</td><td>--</td><td>nan</td><td></td><td>--</td><td>--</td><td></td><td>False</td><td>False</td><td>False</td><td>--</td><td>nan</td><td>nan</td><td>--</td><td>--</td><td>nan</td></tr>\n",
       "<tr><td>VFID0007</td><td>118.2363</td><td>74.57653</td><td>2346.0</td><td>PGC022064</td><td>0</td><td>0</td><td>KUG 0746+747</td><td>True</td><td>False</td><td>False</td><td>False</td><td>True</td><td>False</td><td></td><td>nan</td><td>nan</td><td>--</td><td>--</td><td>--</td><td>nan</td><td>nan</td><td>--</td><td>--</td><td>nan</td><td>nan</td><td></td><td>nan</td><td>nan</td><td>nan</td><td>nan</td><td>nan</td><td>nan</td><td>nan</td><td>nan</td><td>nan</td><td>nan</td><td>nan</td><td>nan</td><td>nan</td><td>nan</td><td>nan</td><td>nan</td><td>nan</td><td>nan</td><td>nan</td><td>nan</td><td>nan</td><td>nan</td><td>nan</td><td>nan</td><td>nan</td><td>nan</td><td>nan</td><td>nan</td><td>nan</td><td>nan</td><td>nan</td><td>nan</td><td>nan</td><td>nan</td><td>nan</td><td>nan</td><td>nan</td><td>nan</td><td>nan</td><td>nan</td><td>--</td><td>nan</td><td></td><td>--</td><td>--</td><td></td><td>False</td><td>False</td><td>False</td><td>--</td><td>nan</td><td>nan</td><td>--</td><td>--</td><td>nan</td></tr>\n",
       "<tr><td>VFID0008</td><td>274.94318</td><td>74.56839</td><td>1484.5</td><td>NGC6643</td><td>0</td><td>0</td><td>NGC 6643</td><td>True</td><td>False</td><td>False</td><td>False</td><td>True</td><td>True</td><td></td><td>nan</td><td>nan</td><td>--</td><td>--</td><td>--</td><td>nan</td><td>nan</td><td>--</td><td>--</td><td>nan</td><td>nan</td><td></td><td>nan</td><td>nan</td><td>nan</td><td>nan</td><td>nan</td><td>nan</td><td>nan</td><td>nan</td><td>nan</td><td>nan</td><td>nan</td><td>nan</td><td>nan</td><td>nan</td><td>nan</td><td>nan</td><td>nan</td><td>nan</td><td>nan</td><td>nan</td><td>nan</td><td>nan</td><td>nan</td><td>nan</td><td>nan</td><td>nan</td><td>nan</td><td>nan</td><td>nan</td><td>nan</td><td>nan</td><td>nan</td><td>nan</td><td>nan</td><td>nan</td><td>nan</td><td>nan</td><td>nan</td><td>nan</td><td>nan</td><td>--</td><td>nan</td><td></td><td>--</td><td>--</td><td></td><td>False</td><td>False</td><td>False</td><td>--</td><td>nan</td><td>nan</td><td>--</td><td>--</td><td>nan</td></tr>\n",
       "<tr><td>...</td><td>...</td><td>...</td><td>...</td><td>...</td><td>...</td><td>...</td><td>...</td><td>...</td><td>...</td><td>...</td><td>...</td><td>...</td><td>...</td><td>...</td><td>...</td><td>...</td><td>...</td><td>...</td><td>...</td><td>...</td><td>...</td><td>...</td><td>...</td><td>...</td><td>...</td><td>...</td><td>...</td><td>...</td><td>...</td><td>...</td><td>...</td><td>...</td><td>...</td><td>...</td><td>...</td><td>...</td><td>...</td><td>...</td><td>...</td><td>...</td><td>...</td><td>...</td><td>...</td><td>...</td><td>...</td><td>...</td><td>...</td><td>...</td><td>...</td><td>...</td><td>...</td><td>...</td><td>...</td><td>...</td><td>...</td><td>...</td><td>...</td><td>...</td><td>...</td><td>...</td><td>...</td><td>...</td><td>...</td><td>...</td><td>...</td><td>...</td><td>...</td><td>...</td><td>...</td><td>...</td><td>...</td><td>...</td><td>...</td><td>...</td><td>...</td><td>...</td><td>...</td><td>...</td><td>...</td><td>...</td><td>...</td></tr>\n",
       "<tr><td>VFID6850</td><td>190.73863</td><td>-1.2293804</td><td>3213.8</td><td>UGC07883</td><td>8920</td><td>0</td><td>UGC 07883</td><td>True</td><td>True</td><td>False</td><td>False</td><td>True</td><td>True</td><td>1237671764786020385</td><td>190.73860246443544</td><td>-1.2294269955943653</td><td>6121</td><td>5</td><td>154</td><td>0.015708452273519212</td><td>0.015454557386036492</td><td>0</td><td>0</td><td>827.63617</td><td>1396.6107</td><td>1905m016</td><td>81403.27</td><td>0.00012850006</td><td>10.223395</td><td>0.0011766052</td><td>24.942636</td><td>0.9520238</td><td>0.00013977435</td><td>11.3781</td><td>1612.0</td><td>20.644575</td><td>87224.98</td><td>1.1702671e-05</td><td>10.148397</td><td>0.0036386556</td><td>2.750743</td><td>0.90838885</td><td>0.00016075568</td><td>14.021903</td><td>1053.0</td><td>20.647758</td><td>1430801.4</td><td>5.178795e-09</td><td>7.1110516</td><td>0.010544611</td><td>1.1412439</td><td>0.7912834</td><td>0.00024064655</td><td>344.31735</td><td>810.0</td><td>10.263445</td><td>5723089.0</td><td>1.5258593e-11</td><td>5.6059237</td><td>0.048566476</td><td>0.48170704</td><td>0.8521556</td><td>0.00045169416</td><td>2585.0852</td><td>814.0</td><td>10.997904</td><td>7357</td><td>3213.8</td><td>UGC07883</td><td>8920</td><td>0</td><td>UGC 07883</td><td>True</td><td>True</td><td>False</td><td>7357</td><td>190.73863</td><td>-1.2293804</td><td>--</td><td>--</td><td>0.19907532589260646</td></tr>\n",
       "<tr><td>VFID6851</td><td>215.62787</td><td>-1.2293984</td><td>1745.2</td><td>PGC1123741</td><td>631635</td><td>0</td><td>WISEA J142230.70-011345.2</td><td>True</td><td>True</td><td>False</td><td>False</td><td>False</td><td>False</td><td>1237674604291162452</td><td>215.62797924766812</td><td>-1.229207287373111</td><td>6782</td><td>6</td><td>76</td><td>0.48552343140114373</td><td>0.6540627533420937</td><td>0</td><td>0</td><td>1907.4492</td><td>1396.7921</td><td>2163m016</td><td>1588.1866</td><td>0.0009990887</td><td>14.497746</td><td>0.02162822</td><td>0.84260094</td><td>0.91379535</td><td>0.00043367015</td><td>0.68874955</td><td>227.0</td><td>34.453117</td><td>1490.303</td><td>7.7372664e-05</td><td>14.566813</td><td>0.082823955</td><td>0.54017276</td><td>0.82788515</td><td>0.0011065907</td><td>1.6491549</td><td>151.0</td><td>31.368822</td><td>10866.882</td><td>3.2945184e-08</td><td>12.409738</td><td>0.55045694</td><td>0.4213589</td><td>0.5738518</td><td>0.0013620593</td><td>14.801337</td><td>96.0</td><td>14.796534</td><td>236918.0</td><td>8.092808e-11</td><td>9.063505</td><td>0.50942075</td><td>0.42532748</td><td>0.7435978</td><td>0.0036029115</td><td>853.59436</td><td>212.0</td><td>18.309132</td><td>1412</td><td>1745.2</td><td>PGC1123741</td><td>631635</td><td>0</td><td>WISEA J142230.70-011345.2</td><td>True</td><td>True</td><td>False</td><td>1412</td><td>215.62787</td><td>-1.2293984</td><td>--</td><td>--</td><td>0.7947621585839064</td></tr>\n",
       "<tr><td>VFID6852</td><td>163.18935</td><td>-1.2314</td><td>929.0</td><td>PGC3286596</td><td>625465</td><td>0</td><td>WISEA J105245.44-011353.0</td><td>True</td><td>True</td><td>False</td><td>False</td><td>False</td><td>False</td><td>1237674648847581821</td><td>163.18933902862628</td><td>-1.2312595311777517</td><td>6793</td><td>1</td><td>17</td><td>0.05178032547932685</td><td>0.0448642516682075</td><td>0</td><td>0</td><td>1249.4265</td><td>1394.21</td><td>1633m016</td><td>1143.0383</td><td>0.0022717207</td><td>14.854848</td><td>0.019929023</td><td>4.1293554</td><td>0.94281846</td><td>0.00015930407</td><td>0.18209061</td><td>148.0</td><td>22.830082</td><td>1522.187</td><td>0.00018171778</td><td>14.54383</td><td>0.052912418</td><td>0.9427037</td><td>0.91453266</td><td>0.0001008231</td><td>0.15347184</td><td>104.0</td><td>23.080097</td><td>27373.703</td><td>4.260134e-08</td><td>11.406666</td><td>0.19216715</td><td>0.63147694</td><td>0.7398718</td><td>0.0001518205</td><td>4.1558905</td><td>84.0</td><td>9.195091</td><td>209747.17</td><td>8.557704e-11</td><td>9.19576</td><td>0.5595637</td><td>0.45840287</td><td>0.88166326</td><td>0.0012192263</td><td>255.72919</td><td>252.0</td><td>11.9104595</td><td>663</td><td>929.0</td><td>PGC3286596</td><td>625465</td><td>0</td><td>WISEA J105245.44-011353.0</td><td>True</td><td>True</td><td>False</td><td>663</td><td>163.18935</td><td>-1.2314</td><td>--</td><td>--</td><td>0.5064136581245178</td></tr>\n",
       "<tr><td>VFID6853</td><td>191.5875</td><td>-1.2501285</td><td>2779.2</td><td>PGC1123239</td><td>8840</td><td>0</td><td>WISEA J124620.96-011500.3</td><td>True</td><td>True</td><td>False</td><td>False</td><td>False</td><td>False</td><td>1237671763712278735</td><td>191.58742583547223</td><td>-1.2501085384003505</td><td>6121</td><td>3</td><td>154</td><td>0.0543608061364315</td><td>0.10022185634996549</td><td>0</td><td>0</td><td>1696.4174</td><td>1369.4757</td><td>1921m016</td><td>713.0653</td><td>0.002075688</td><td>15.367177</td><td>0.03342058</td><td>1.3721309</td><td>0.91082245</td><td>0.00025128276</td><td>0.17918111</td><td>120.0</td><td>22.674017</td><td>961.6143</td><td>0.00016243177</td><td>15.042498</td><td>0.08859065</td><td>0.5338173</td><td>0.87193006</td><td>0.00017025552</td><td>0.16372013</td><td>92.0</td><td>22.618528</td><td>1614.5499</td><td>3.810187e-08</td><td>14.479871</td><td>3.4450827</td><td>0.43067545</td><td>0.659466</td><td>0.008812872</td><td>14.228822</td><td>71.0</td><td>8.486166</td><td>-79906.4</td><td>7.652071e-11</td><td>nan</td><td>nan</td><td>0.52318454</td><td>0.7403153</td><td>0.013878098</td><td>1108.9489</td><td>148.0</td><td>10.0039835</td><td>1723</td><td>2779.2</td><td>PGC1123239</td><td>8840</td><td>0</td><td>WISEA J124620.96-011500.3</td><td>True</td><td>True</td><td>False</td><td>1723</td><td>191.5875</td><td>-1.2501285</td><td>--</td><td>--</td><td>0.255292191923391</td></tr>\n",
       "<tr><td>VFID6854</td><td>186.59453</td><td>-1.2542672</td><td>1982.7</td><td>PGC040683</td><td>628312</td><td>0</td><td>UM 501</td><td>True</td><td>True</td><td>False</td><td>False</td><td>False</td><td>False</td><td>1237650372095443142</td><td>186.59468588810944</td><td>-1.2535552248191544</td><td>1140</td><td>6</td><td>225</td><td>0.022862957405708293</td><td>0.023860136366755217</td><td>1</td><td>0</td><td>312.06442</td><td>1364.9557</td><td>1860m016</td><td>182.24557</td><td>0.004265566</td><td>16.848358</td><td>0.09121768</td><td>1.5030531</td><td>0.927955</td><td>0.0645429</td><td>11.762654</td><td>94.0</td><td>24.636648</td><td>344.11197</td><td>0.00025547517</td><td>16.15825</td><td>0.19740139</td><td>0.70545113</td><td>0.90766066</td><td>0.04711505</td><td>16.212849</td><td>86.0</td><td>25.173874</td><td>27980.654</td><td>5.2594583e-08</td><td>11.382855</td><td>0.16919827</td><td>0.76831925</td><td>0.77396953</td><td>0.0026478712</td><td>74.089165</td><td>83.0</td><td>8.500919</td><td>633715.9</td><td>8.2084714e-11</td><td>7.9952636</td><td>0.18910307</td><td>0.51720977</td><td>0.95784134</td><td>0.0033712238</td><td>2136.3992</td><td>355.0</td><td>10.611062</td><td>8916</td><td>1982.7</td><td>PGC040683</td><td>628312</td><td>0</td><td>SHOC 373a</td><td>True</td><td>True</td><td>False</td><td>8916</td><td>186.59453</td><td>-1.2542672</td><td>--</td><td>--</td><td>2.6252498424806534</td></tr>\n",
       "<tr><td>VFID6855</td><td>175.93983</td><td>-1.2766024</td><td>1699.8</td><td>GAMA143446</td><td>0</td><td>0</td><td>GAMA 143446</td><td>True</td><td>False</td><td>False</td><td>False</td><td>False</td><td>False</td><td>1237650372090790130</td><td>175.93981618456542</td><td>-1.2767003859316697</td><td>1140</td><td>6</td><td>154</td><td>0.24581661841038224</td><td>0.46194424767748116</td><td>0</td><td>0</td><td>399.23657</td><td>1334.6719</td><td>1754m016</td><td>799.81335</td><td>0.000102625</td><td>15.242528</td><td>0.13400131</td><td>0.10034241</td><td>0.20443296</td><td>0.0007010358</td><td>0.56069773</td><td>26.0</td><td>4.036762</td><td>398.9617</td><td>3.0654173e-05</td><td>15.997672</td><td>0.4915281</td><td>0.43547866</td><td>0.80111706</td><td>0.008713393</td><td>3.4763098</td><td>175.0</td><td>16.373888</td><td>27484.676</td><td>1.1387019e-09</td><td>11.402273</td><td>1.1706543</td><td>0.03404054</td><td>0.09132213</td><td>0.0003185592</td><td>8.755498</td><td>25.0</td><td>1.0045433</td><td>-265069.4</td><td>2.1735135e-12</td><td>nan</td><td>nan</td><td>0.016312629</td><td>0.06627738</td><td>0.0003198557</td><td>84.783966</td><td>24.0</td><td>0.72905123</td><td>3960</td><td>1699.8</td><td>GAMA143446</td><td>0</td><td>0</td><td></td><td>True</td><td>False</td><td>False</td><td>3960</td><td>175.93983</td><td>-1.2766024</td><td>--</td><td>--</td><td>0.35896301063627245</td></tr>\n",
       "<tr><td>VFID6856</td><td>170.0766</td><td>-1.2806</td><td>2758.0</td><td>PGC3288547</td><td>659271</td><td>0</td><td>WISEA J112018.30-011650.6</td><td>True</td><td>True</td><td>False</td><td>False</td><td>False</td><td>False</td><td>1237650372088234037</td><td>170.07616202274835</td><td>-1.2807728574458113</td><td>1140</td><td>6</td><td>115</td><td>0.010661381366040697</td><td>0.009930705363884693</td><td>0</td><td>0</td><td>154.74883</td><td>1329.286</td><td>1694m016</td><td>2015.7064</td><td>0.0024558702</td><td>14.238932</td><td>0.010869118</td><td>1.0453062</td><td>0.9530514</td><td>0.005997194</td><td>12.088582</td><td>193.0</td><td>22.688263</td><td>2694.5784</td><td>0.00018443105</td><td>13.923773</td><td>0.029669927</td><td>1.2821411</td><td>0.9443458</td><td>0.0053012734</td><td>14.2847</td><td>164.0</td><td>23.114073</td><td>14098.124</td><td>5.2428515e-08</td><td>12.127097</td><td>0.33634052</td><td>0.49065375</td><td>0.70514077</td><td>0.001970869</td><td>27.785566</td><td>76.0</td><td>10.667045</td><td>154760.31</td><td>9.9898784e-11</td><td>9.525851</td><td>0.70191514</td><td>0.39972818</td><td>0.8508102</td><td>0.006664927</td><td>1031.4667</td><td>221.0</td><td>13.469807</td><td>667</td><td>2758.0</td><td>PGC3288547</td><td>659271</td><td>0</td><td></td><td>True</td><td>True</td><td>False</td><td>667</td><td>170.0766</td><td>-1.2806</td><td>--</td><td>--</td><td>1.6918311215516555</td></tr>\n",
       "<tr><td>VFID6857</td><td>183.4117</td><td>-1.2935266</td><td>2430.5</td><td>PGC1122171</td><td>627938</td><td>0</td><td>WISEA J121338.81-011736.9</td><td>True</td><td>True</td><td>False</td><td>False</td><td>False</td><td>False</td><td>1237650372094066861</td><td>183.41168480857158</td><td>-1.2935555730419028</td><td>1140</td><td>6</td><td>204</td><td>0.0179918755842802</td><td>0.01606487072002586</td><td>0</td><td>0</td><td>518.58734</td><td>1312.6261</td><td>1830m016</td><td>413.3003</td><td>0.0015483139</td><td>15.959335</td><td>0.06676196</td><td>0.56947714</td><td>0.8952937</td><td>9.9373305e-05</td><td>0.041071285</td><td>127.0</td><td>21.627008</td><td>386.2613</td><td>9.603278e-05</td><td>16.032797</td><td>0.28683582</td><td>0.556699</td><td>0.82490903</td><td>7.8828125e-05</td><td>0.030448327</td><td>89.0</td><td>22.697926</td><td>23767.738</td><td>2.2021096e-08</td><td>11.56003</td><td>0.3078343</td><td>0.53479534</td><td>0.7307684</td><td>9.2383205e-05</td><td>2.195744</td><td>116.0</td><td>6.408029</td><td>617220.6</td><td>6.337708e-11</td><td>8.023899</td><td>0.22096208</td><td>0.8449488</td><td>0.84481853</td><td>0.00010153367</td><td>62.668705</td><td>237.0</td><td>10.818146</td><td>1411</td><td>2430.5</td><td>PGC1122171</td><td>627938</td><td>0</td><td>WISEA J121338.81-011736.9</td><td>True</td><td>True</td><td>False</td><td>1411</td><td>183.4117</td><td>-1.2935266</td><td>--</td><td>--</td><td>0.11354142223369529</td></tr>\n",
       "<tr><td>VFID6858</td><td>187.44257</td><td>-1.2951077</td><td>2260.5</td><td>PGC135806</td><td>19673</td><td>0</td><td>WISEA J122946.30-011741.6</td><td>True</td><td>True</td><td>False</td><td>False</td><td>False</td><td>False</td><td>1237650372095836385</td><td>187.44272454103185</td><td>-1.2951062382645246</td><td>1140</td><td>6</td><td>231</td><td>0.06450723424069603</td><td>0.07492790696082872</td><td>0</td><td>0</td><td>1181.868</td><td>1310.6307</td><td>1875m016</td><td>106.92589</td><td>0.0031338064</td><td>17.427294</td><td>0.18138666</td><td>1.7935734</td><td>0.92043024</td><td>0.17705634</td><td>18.931902</td><td>78.0</td><td>18.003696</td><td>251.47737</td><td>0.00022902263</td><td>16.498753</td><td>0.28528976</td><td>0.5476668</td><td>0.8963842</td><td>0.08308935</td><td>20.895088</td><td>68.0</td><td>18.73458</td><td>16307.462</td><td>4.949653e-08</td><td>11.969034</td><td>0.29926127</td><td>0.74177253</td><td>0.7518609</td><td>0.005463695</td><td>89.09903</td><td>73.0</td><td>8.04814</td><td>-345968.8</td><td>7.916528e-11</td><td>nan</td><td>nan</td><td>0.6953684</td><td>0.88958013</td><td>0.012518192</td><td>4330.9023</td><td>247.0</td><td>9.609984</td><td>4473</td><td>2260.5</td><td>PGC135806</td><td>19673</td><td>0</td><td>WISEA J122946.30-011741.6</td><td>True</td><td>True</td><td>False</td><td>4473</td><td>187.44257</td><td>-1.2951077</td><td>--</td><td>--</td><td>0.5709221471750109</td></tr>\n",
       "<tr><td>VFID6859</td><td>180.2962</td><td>-1.2961195</td><td>1487.4</td><td>UGC07000</td><td>695480</td><td>0</td><td>UGC 07000</td><td>True</td><td>True</td><td>False</td><td>False</td><td>True</td><td>False</td><td>1237650372092690472</td><td>180.2964286497203</td><td>-1.2960561087236449</td><td>1140</td><td>6</td><td>183</td><td>0.08223680385993043</td><td>0.08803633928449398</td><td>1</td><td>0</td><td>636.427</td><td>1309.3684</td><td>1800m016</td><td>105.53092</td><td>0.003318363</td><td>17.441551</td><td>0.17860049</td><td>3.0969687</td><td>0.8027255</td><td>1.6824428</td><td>177.54974</td><td>24.0</td><td>15.84349</td><td>115.088974</td><td>0.00023390444</td><td>17.347416</td><td>0.6168384</td><td>1.0090138</td><td>0.74881786</td><td>1.4225366</td><td>163.71828</td><td>20.0</td><td>15.842891</td><td>2630.7986</td><td>4.9479972e-08</td><td>13.949781</td><td>1.8553334</td><td>0.2629633</td><td>0.5049368</td><td>0.31389725</td><td>825.8004</td><td>21.0</td><td>5.534984</td><td>91789.92</td><td>4.6827493e-11</td><td>10.093013</td><td>1.7285377</td><td>0.12064902</td><td>0.32148784</td><td>0.04038953</td><td>3707.3513</td><td>19.0</td><td>3.4544592</td><td>4184</td><td>1487.4</td><td>UGC07000</td><td>695480</td><td>0</td><td>UGC 07000</td><td>True</td><td>True</td><td>False</td><td>4184</td><td>180.2962</td><td>-1.2961195</td><td>--</td><td>--</td><td>0.8414132670266368</td></tr>\n",
       "</table>"
      ],
      "text/plain": [
       "<Table masked=True length=6860>\n",
       " VFID_1     RA_1     DEC_1      vr_1  ... GroupID GroupSize      Separation    \n",
       "                                      ...                          arcsec      \n",
       " bytes8   float32   float32   float32 ...  int32    int32         float64      \n",
       "-------- --------- ---------- ------- ... ------- --------- -------------------\n",
       "VFID0000 185.86877   74.95225  1418.8 ...      --        --                 nan\n",
       "VFID0001   182.208  74.904274  1331.5 ...      --        --                 nan\n",
       "VFID0002 145.94466   74.85958  3049.4 ...      --        --                 nan\n",
       "VFID0003 185.57309   74.83839  1833.0 ...      --        --                 nan\n",
       "VFID0004 182.82774   74.80822  1683.0 ...      --        --                 nan\n",
       "VFID0005 173.13419   74.62754  1920.1 ...      --        --  0.8694036742732427\n",
       "VFID0006 121.91241   74.58463  2333.0 ...      --        --                 nan\n",
       "VFID0007  118.2363   74.57653  2346.0 ...      --        --                 nan\n",
       "VFID0008 274.94318   74.56839  1484.5 ...      --        --                 nan\n",
       "     ...       ...        ...     ... ...     ...       ...                 ...\n",
       "VFID6850 190.73863 -1.2293804  3213.8 ...      --        -- 0.19907532589260646\n",
       "VFID6851 215.62787 -1.2293984  1745.2 ...      --        --  0.7947621585839064\n",
       "VFID6852 163.18935    -1.2314   929.0 ...      --        --  0.5064136581245178\n",
       "VFID6853  191.5875 -1.2501285  2779.2 ...      --        --   0.255292191923391\n",
       "VFID6854 186.59453 -1.2542672  1982.7 ...      --        --  2.6252498424806534\n",
       "VFID6855 175.93983 -1.2766024  1699.8 ...      --        -- 0.35896301063627245\n",
       "VFID6856  170.0766    -1.2806  2758.0 ...      --        --  1.6918311215516555\n",
       "VFID6857  183.4117 -1.2935266  2430.5 ...      --        -- 0.11354142223369529\n",
       "VFID6858 187.44257 -1.2951077  2260.5 ...      --        --  0.5709221471750109\n",
       "VFID6859  180.2962 -1.2961195  1487.4 ...      --        --  0.8414132670266368"
      ]
     },
     "execution_count": 6,
     "metadata": {},
     "output_type": "execute_result"
    }
   ],
   "source": [
    "vfunwise"
   ]
  },
  {
   "cell_type": "code",
   "execution_count": null,
   "metadata": {},
   "outputs": [],
   "source": []
  },
  {
   "cell_type": "markdown",
   "metadata": {},
   "source": [
    "# Select Sample for WISE Analysis #\n",
    "\n",
    "- probably should start with a sample of 10 galaxies\n",
    "- select those with high W3 SNR"
   ]
  },
  {
   "cell_type": "code",
   "execution_count": null,
   "metadata": {},
   "outputs": [],
   "source": []
  },
  {
   "cell_type": "code",
   "execution_count": null,
   "metadata": {},
   "outputs": [],
   "source": []
  },
  {
   "cell_type": "markdown",
   "metadata": {},
   "source": [
    "# Example Galaxy #\n",
    "\n",
    "I am going to take one galaxy as an example: NGC4363.  This is the first galaxy in our catalog!"
   ]
  },
  {
   "cell_type": "code",
   "execution_count": 7,
   "metadata": {},
   "outputs": [
    {
     "name": "stdout",
     "output_type": "stream",
     "text": [
      "[0]\n"
     ]
    }
   ],
   "source": [
    "vfindex = np.arange(len(vfmain))[vfmain['objname'] == 'NGC4363']\n",
    "print(vfindex)"
   ]
  },
  {
   "cell_type": "markdown",
   "metadata": {},
   "source": [
    "I am going to store the RA, DEC and size as new variables just for clarity.  In practice, you could just pass in the variable directly from the table, like vmain['RA'][vfindex] instead of ra."
   ]
  },
  {
   "cell_type": "code",
   "execution_count": 8,
   "metadata": {},
   "outputs": [],
   "source": [
    "ra = vfmain['RA'][vfindex][0]\n",
    "dec = vfmain['DEC'][vfindex][0]\n",
    "size = vfmain['radius'][vfindex][0]\n",
    "galname = vfmain['prefix'][vfindex][0]"
   ]
  },
  {
   "cell_type": "code",
   "execution_count": 9,
   "metadata": {},
   "outputs": [
    {
     "name": "stdout",
     "output_type": "stream",
     "text": [
      "74.95225\n"
     ]
    }
   ],
   "source": [
    "print(dec)"
   ]
  },
  {
   "cell_type": "markdown",
   "metadata": {},
   "source": [
    "# Load wisesize code #\n",
    "\n",
    "- set the current directory to someplace where you want to store images and galfit output"
   ]
  },
  {
   "cell_type": "code",
   "execution_count": 10,
   "metadata": {},
   "outputs": [],
   "source": [
    "os.chdir(homedir+'/research/Virgo/wisesize/test/')"
   ]
  },
  {
   "cell_type": "code",
   "execution_count": 11,
   "metadata": {},
   "outputs": [
    {
     "name": "stdout",
     "output_type": "stream",
     "text": [
      "WARNING: could not import pyds9\n"
     ]
    }
   ],
   "source": [
    "%run ~/github/virgowise/wisesize.py"
   ]
  },
  {
   "cell_type": "markdown",
   "metadata": {},
   "source": [
    "set up one galaxy"
   ]
  },
  {
   "cell_type": "code",
   "execution_count": 12,
   "metadata": {},
   "outputs": [],
   "source": [
    "g = galaxy(ra, dec, size,name=galname,band='3')"
   ]
  },
  {
   "cell_type": "code",
   "execution_count": 13,
   "metadata": {},
   "outputs": [
    {
     "name": "stdout",
     "output_type": "stream",
     "text": [
      "wise image size =  47\n",
      "downloading unwise images\n",
      "http://unwise.me/cutout_fits?version=allwise&ra=185.86877&dec=74.95225&size=47&bands=3\n",
      "['unwise-1853p742-w3-img-m.fits', 'unwise-1853p742-w3-invvar-m.fits.gz', 'unwise-1853p742-w3-n-m.fits.gz', 'unwise-1853p742-w3-std-m.fits.gz', 'unwise-1858p757-w3-img-m.fits', 'unwise-1858p757-w3-invvar-m.fits.gz', 'unwise-1858p757-w3-n-m.fits.gz', 'unwise-1858p757-w3-std-m.fits.gz']\n",
      "rename =  VFID0000-NGC4363-unwise-1853p742-w3-img-m.fits\n",
      "rename =  VFID0000-NGC4363-unwise-1853p742-w3-invvar-m.fits.gz\n",
      "rename =  VFID0000-NGC4363-unwise-1853p742-w3-n-m.fits.gz\n",
      "rename =  VFID0000-NGC4363-unwise-1853p742-w3-std-m.fits.gz\n",
      "rename =  VFID0000-NGC4363-unwise-1858p757-w3-img-m.fits\n",
      "rename =  VFID0000-NGC4363-unwise-1858p757-w3-invvar-m.fits.gz\n",
      "rename =  VFID0000-NGC4363-unwise-1858p757-w3-n-m.fits.gz\n",
      "rename =  VFID0000-NGC4363-unwise-1858p757-w3-std-m.fits.gz\n",
      "['VFID0000-NGC4363-unwise-1853p742-w3-img-m.fits', 'VFID0000-NGC4363-unwise-1858p757-w3-img-m.fits']\n"
     ]
    }
   ],
   "source": [
    "g.get_wise_image()"
   ]
  },
  {
   "cell_type": "code",
   "execution_count": 14,
   "metadata": {},
   "outputs": [],
   "source": [
    "g.set_image_names()"
   ]
  },
  {
   "cell_type": "code",
   "execution_count": 15,
   "metadata": {},
   "outputs": [
    {
     "name": "stderr",
     "output_type": "stream",
     "text": [
      "WARNING: The following header keyword is invalid or follows an unrecognized non-standard convention:\n",
      "VFID0000-NGC4363-unwise-w3-img-m.fits                                            [astropy.io.fits.card]\n"
     ]
    }
   ],
   "source": [
    "g.getpix()"
   ]
  },
  {
   "cell_type": "code",
   "execution_count": 21,
   "metadata": {},
   "outputs": [
    {
     "name": "stdout",
     "output_type": "stream",
     "text": [
      "self.psfimage =  /Users/rfinn/github/virgowise/wise_psfs/wise-w3-psf-wpro-09x09-05x05.fits\n",
      "***%%%%%%%%%%%%%%%%%\n",
      "inside galfit class\n",
      "0 100 0 100 50\n",
      "0 100 0 100 50\n",
      "psf_image =  /Users/rfinn/github/virgowise/wise_psfs/wise-w3-psf-wpro-09x09-05x05.fits\n",
      "self.fitall =  0\n",
      "***%%%%%%%%%%%%%%%%%\n"
     ]
    }
   ],
   "source": [
    "g.initialize_galfit(convflag=False)"
   ]
  },
  {
   "cell_type": "code",
   "execution_count": 22,
   "metadata": {},
   "outputs": [],
   "source": [
    "g.set_sersic_params()"
   ]
  },
  {
   "cell_type": "code",
   "execution_count": null,
   "metadata": {},
   "outputs": [],
   "source": []
  },
  {
   "cell_type": "code",
   "execution_count": null,
   "metadata": {},
   "outputs": [],
   "source": []
  },
  {
   "cell_type": "code",
   "execution_count": null,
   "metadata": {},
   "outputs": [],
   "source": []
  },
  {
   "cell_type": "code",
   "execution_count": null,
   "metadata": {},
   "outputs": [],
   "source": []
  },
  {
   "cell_type": "code",
   "execution_count": 17,
   "metadata": {},
   "outputs": [
    {
     "name": "stdout",
     "output_type": "stream",
     "text": [
      "wise image size =  47\n",
      "downloading unwise images\n",
      "http://unwise.me/cutout_fits?version=allwise&ra=185.86877&dec=74.95225&size=47&bands=3\n",
      "['unwise-1853p742-w3-img-m.fits', 'unwise-1853p742-w3-invvar-m.fits.gz', 'unwise-1853p742-w3-n-m.fits.gz', 'unwise-1853p742-w3-std-m.fits.gz', 'unwise-1858p757-w3-img-m.fits', 'unwise-1858p757-w3-invvar-m.fits.gz', 'unwise-1858p757-w3-n-m.fits.gz', 'unwise-1858p757-w3-std-m.fits.gz']\n",
      "rename =  VFID0000-NGC4363-unwise-1853p742-w3-img-m.fits\n",
      "rename =  VFID0000-NGC4363-unwise-1853p742-w3-invvar-m.fits.gz\n",
      "rename =  VFID0000-NGC4363-unwise-1853p742-w3-n-m.fits.gz\n",
      "rename =  VFID0000-NGC4363-unwise-1853p742-w3-std-m.fits.gz\n",
      "rename =  VFID0000-NGC4363-unwise-1858p757-w3-img-m.fits\n",
      "rename =  VFID0000-NGC4363-unwise-1858p757-w3-invvar-m.fits.gz\n",
      "rename =  VFID0000-NGC4363-unwise-1858p757-w3-n-m.fits.gz\n",
      "rename =  VFID0000-NGC4363-unwise-1858p757-w3-std-m.fits.gz\n",
      "['VFID0000-NGC4363-unwise-1853p742-w3-img-m.fits', 'VFID0000-NGC4363-unwise-1858p757-w3-img-m.fits']\n",
      "self.psfimage =  /Users/rfinn/github/virgowise/wise_psfs/wise-w3-psf-wpro-09x09-05x05.fits\n",
      "***%%%%%%%%%%%%%%%%%\n",
      "inside galfit class\n",
      "0 100 0 100 50\n",
      "0 100 0 100 50\n",
      "psf_image =  /Users/rfinn/github/virgowise/wise_psfs/wise-w3-psf-wpro-09x09-05x05.fits\n",
      "self.fitall =  0\n",
      "***%%%%%%%%%%%%%%%%%\n",
      "in rungalfit.run_galfit, self.psf_image =  /Users/rfinn/github/virgowise/wise_psfs/wise-w3-psf-wpro-09x09-05x05.fits\n",
      "sersic n, fitsersicn =  5.1917502342149735 1\n",
      "BA, fitBA =  0.37355663667950945 1\n",
      "run the following:  galfit VFID0000-NGC4363-unwise-w3-galfit.input.1Comp\n",
      "appears like galfit did not complete\n"
     ]
    },
    {
     "ename": "IndexError",
     "evalue": "list index out of range",
     "output_type": "error",
     "traceback": [
      "\u001b[0;31m---------------------------------------------------------------------------\u001b[0m",
      "\u001b[0;31mIndexError\u001b[0m                                Traceback (most recent call last)",
      "\u001b[0;32m<ipython-input-17-6afde9742492>\u001b[0m in \u001b[0;36m<module>\u001b[0;34m\u001b[0m\n\u001b[0;32m----> 1\u001b[0;31m \u001b[0mg\u001b[0m\u001b[0;34m.\u001b[0m\u001b[0mrun_simple\u001b[0m\u001b[0;34m(\u001b[0m\u001b[0;34m)\u001b[0m\u001b[0;34m\u001b[0m\u001b[0;34m\u001b[0m\u001b[0m\n\u001b[0m",
      "\u001b[0;32m~/github/virgowise/wisesize.py\u001b[0m in \u001b[0;36mrun_simple\u001b[0;34m(self, convflag)\u001b[0m\n\u001b[1;32m    455\u001b[0m         \u001b[0mself\u001b[0m\u001b[0;34m.\u001b[0m\u001b[0mset_sersic_params\u001b[0m\u001b[0;34m(\u001b[0m\u001b[0;34m)\u001b[0m \u001b[0;31m# select random initial conditions\u001b[0m\u001b[0;34m\u001b[0m\u001b[0;34m\u001b[0m\u001b[0m\n\u001b[1;32m    456\u001b[0m         \u001b[0mself\u001b[0m\u001b[0;34m.\u001b[0m\u001b[0mrun_galfit_wise\u001b[0m\u001b[0;34m(\u001b[0m\u001b[0mfitBA\u001b[0m\u001b[0;34m=\u001b[0m\u001b[0;36m1\u001b[0m\u001b[0;34m,\u001b[0m\u001b[0mfitPA\u001b[0m\u001b[0;34m=\u001b[0m\u001b[0;36m1\u001b[0m\u001b[0;34m)\u001b[0m\u001b[0;34m\u001b[0m\u001b[0;34m\u001b[0m\u001b[0m\n\u001b[0;32m--> 457\u001b[0;31m         \u001b[0mself\u001b[0m\u001b[0;34m.\u001b[0m\u001b[0mwrite_results\u001b[0m\u001b[0;34m(\u001b[0m\u001b[0;34m)\u001b[0m\u001b[0;34m\u001b[0m\u001b[0;34m\u001b[0m\u001b[0m\n\u001b[0m\u001b[1;32m    458\u001b[0m \u001b[0;34m\u001b[0m\u001b[0m\n\u001b[1;32m    459\u001b[0m \u001b[0;34m\u001b[0m\u001b[0m\n",
      "\u001b[0;32m~/github/virgowise/wisesize.py\u001b[0m in \u001b[0;36mwrite_results\u001b[0;34m(self)\u001b[0m\n\u001b[1;32m    340\u001b[0m \u001b[0;34m\u001b[0m\u001b[0m\n\u001b[1;32m    341\u001b[0m         '''\n\u001b[0;32m--> 342\u001b[0;31m         \u001b[0mself\u001b[0m\u001b[0;34m.\u001b[0m\u001b[0mget_galfit_results\u001b[0m\u001b[0;34m(\u001b[0m\u001b[0;34m)\u001b[0m\u001b[0;34m\u001b[0m\u001b[0;34m\u001b[0m\u001b[0m\n\u001b[0m\u001b[1;32m    343\u001b[0m \u001b[0;34m\u001b[0m\u001b[0m\n\u001b[1;32m    344\u001b[0m         \u001b[0moutput\u001b[0m\u001b[0;34m=\u001b[0m\u001b[0mopen\u001b[0m\u001b[0;34m(\u001b[0m\u001b[0mself\u001b[0m\u001b[0;34m.\u001b[0m\u001b[0mlogfilename\u001b[0m\u001b[0;34m,\u001b[0m\u001b[0;34m'a'\u001b[0m\u001b[0;34m)\u001b[0m\u001b[0;34m\u001b[0m\u001b[0;34m\u001b[0m\u001b[0m\n",
      "\u001b[0;32m~/github/virgowise/wisesize.py\u001b[0m in \u001b[0;36mget_galfit_results\u001b[0;34m(self, printflag)\u001b[0m\n\u001b[1;32m    312\u001b[0m \u001b[0;34m\u001b[0m\u001b[0m\n\u001b[1;32m    313\u001b[0m         \u001b[0mself\u001b[0m\u001b[0;34m.\u001b[0m\u001b[0mfilename\u001b[0m \u001b[0;34m=\u001b[0m \u001b[0mself\u001b[0m\u001b[0;34m.\u001b[0m\u001b[0mgalname\u001b[0m\u001b[0;34m+\u001b[0m\u001b[0;34m'-unwise-'\u001b[0m\u001b[0;34m+\u001b[0m\u001b[0;34m'w'\u001b[0m\u001b[0;34m+\u001b[0m\u001b[0mstr\u001b[0m\u001b[0;34m(\u001b[0m\u001b[0mself\u001b[0m\u001b[0;34m.\u001b[0m\u001b[0mband\u001b[0m\u001b[0;34m)\u001b[0m\u001b[0;34m+\u001b[0m\u001b[0;34m'-1Comp-galfit-out.fits'\u001b[0m\u001b[0;34m\u001b[0m\u001b[0;34m\u001b[0m\u001b[0m\n\u001b[0;32m--> 314\u001b[0;31m         \u001b[0mt\u001b[0m \u001b[0;34m=\u001b[0m \u001b[0mrg\u001b[0m\u001b[0;34m.\u001b[0m\u001b[0mparse_galfit_1comp\u001b[0m\u001b[0;34m(\u001b[0m\u001b[0mself\u001b[0m\u001b[0;34m.\u001b[0m\u001b[0mfilename\u001b[0m\u001b[0;34m)\u001b[0m\u001b[0;34m\u001b[0m\u001b[0;34m\u001b[0m\u001b[0m\n\u001b[0m\u001b[1;32m    315\u001b[0m         \u001b[0;32mif\u001b[0m \u001b[0mprintflag\u001b[0m\u001b[0;34m:\u001b[0m\u001b[0;34m\u001b[0m\u001b[0;34m\u001b[0m\u001b[0m\n\u001b[1;32m    316\u001b[0m             \u001b[0mself\u001b[0m\u001b[0;34m.\u001b[0m\u001b[0mgal1\u001b[0m\u001b[0;34m.\u001b[0m\u001b[0mprint_galfit_results\u001b[0m\u001b[0;34m(\u001b[0m\u001b[0mself\u001b[0m\u001b[0;34m.\u001b[0m\u001b[0mfilename\u001b[0m\u001b[0;34m)\u001b[0m\u001b[0;34m\u001b[0m\u001b[0;34m\u001b[0m\u001b[0m\n",
      "\u001b[0;32m~/github/virgowise/rungalfit.py\u001b[0m in \u001b[0;36mparse_galfit_1comp\u001b[0;34m(galfit_outimage, asymflag, ncomp)\u001b[0m\n\u001b[1;32m     24\u001b[0m     \u001b[0mfit_parameters\u001b[0m\u001b[0;34m=\u001b[0m\u001b[0;34m[\u001b[0m\u001b[0;34m]\u001b[0m\u001b[0;34m\u001b[0m\u001b[0;34m\u001b[0m\u001b[0m\n\u001b[1;32m     25\u001b[0m     \u001b[0mworking_dir\u001b[0m\u001b[0;34m=\u001b[0m\u001b[0mos\u001b[0m\u001b[0;34m.\u001b[0m\u001b[0mgetcwd\u001b[0m\u001b[0;34m(\u001b[0m\u001b[0;34m)\u001b[0m\u001b[0;34m+\u001b[0m\u001b[0;34m'/'\u001b[0m\u001b[0;34m\u001b[0m\u001b[0;34m\u001b[0m\u001b[0m\n\u001b[0;32m---> 26\u001b[0;31m     \u001b[0mimage_header\u001b[0m \u001b[0;34m=\u001b[0m \u001b[0mfits\u001b[0m\u001b[0;34m.\u001b[0m\u001b[0mgetheader\u001b[0m\u001b[0;34m(\u001b[0m\u001b[0mgalfit_outimage\u001b[0m\u001b[0;34m,\u001b[0m\u001b[0;36m2\u001b[0m\u001b[0;34m)\u001b[0m\u001b[0;34m\u001b[0m\u001b[0;34m\u001b[0m\u001b[0m\n\u001b[0m\u001b[1;32m     27\u001b[0m     \u001b[0;32mfor\u001b[0m \u001b[0mhkey\u001b[0m \u001b[0;32min\u001b[0m \u001b[0mheader_keywords\u001b[0m\u001b[0;34m:\u001b[0m\u001b[0;34m\u001b[0m\u001b[0;34m\u001b[0m\u001b[0m\n\u001b[1;32m     28\u001b[0m         \u001b[0ms\u001b[0m\u001b[0;34m=\u001b[0m\u001b[0mstr\u001b[0m\u001b[0;34m(\u001b[0m\u001b[0mimage_header\u001b[0m\u001b[0;34m[\u001b[0m\u001b[0mhkey\u001b[0m\u001b[0;34m]\u001b[0m\u001b[0;34m)\u001b[0m\u001b[0;34m\u001b[0m\u001b[0;34m\u001b[0m\u001b[0m\n",
      "\u001b[0;32m~/anaconda3/lib/python3.7/site-packages/astropy/io/fits/convenience.py\u001b[0m in \u001b[0;36mgetheader\u001b[0;34m(filename, *args, **kwargs)\u001b[0m\n\u001b[1;32m    105\u001b[0m     \u001b[0mhdulist\u001b[0m\u001b[0;34m,\u001b[0m \u001b[0mextidx\u001b[0m \u001b[0;34m=\u001b[0m \u001b[0m_getext\u001b[0m\u001b[0;34m(\u001b[0m\u001b[0mfilename\u001b[0m\u001b[0;34m,\u001b[0m \u001b[0mmode\u001b[0m\u001b[0;34m,\u001b[0m \u001b[0;34m*\u001b[0m\u001b[0margs\u001b[0m\u001b[0;34m,\u001b[0m \u001b[0;34m**\u001b[0m\u001b[0mkwargs\u001b[0m\u001b[0;34m)\u001b[0m\u001b[0;34m\u001b[0m\u001b[0;34m\u001b[0m\u001b[0m\n\u001b[1;32m    106\u001b[0m     \u001b[0;32mtry\u001b[0m\u001b[0;34m:\u001b[0m\u001b[0;34m\u001b[0m\u001b[0;34m\u001b[0m\u001b[0m\n\u001b[0;32m--> 107\u001b[0;31m         \u001b[0mhdu\u001b[0m \u001b[0;34m=\u001b[0m \u001b[0mhdulist\u001b[0m\u001b[0;34m[\u001b[0m\u001b[0mextidx\u001b[0m\u001b[0;34m]\u001b[0m\u001b[0;34m\u001b[0m\u001b[0;34m\u001b[0m\u001b[0m\n\u001b[0m\u001b[1;32m    108\u001b[0m         \u001b[0mheader\u001b[0m \u001b[0;34m=\u001b[0m \u001b[0mhdu\u001b[0m\u001b[0;34m.\u001b[0m\u001b[0mheader\u001b[0m\u001b[0;34m\u001b[0m\u001b[0;34m\u001b[0m\u001b[0m\n\u001b[1;32m    109\u001b[0m     \u001b[0;32mfinally\u001b[0m\u001b[0;34m:\u001b[0m\u001b[0;34m\u001b[0m\u001b[0;34m\u001b[0m\u001b[0m\n",
      "\u001b[0;32m~/anaconda3/lib/python3.7/site-packages/astropy/io/fits/hdu/hdulist.py\u001b[0m in \u001b[0;36m__getitem__\u001b[0;34m(self, key)\u001b[0m\n\u001b[1;32m    302\u001b[0m             \u001b[0;31m# Raise a more helpful IndexError if the file was not fully read.\u001b[0m\u001b[0;34m\u001b[0m\u001b[0;34m\u001b[0m\u001b[0;34m\u001b[0m\u001b[0m\n\u001b[1;32m    303\u001b[0m             \u001b[0;32mif\u001b[0m \u001b[0mself\u001b[0m\u001b[0;34m.\u001b[0m\u001b[0m_read_all\u001b[0m\u001b[0;34m:\u001b[0m\u001b[0;34m\u001b[0m\u001b[0;34m\u001b[0m\u001b[0m\n\u001b[0;32m--> 304\u001b[0;31m                 \u001b[0;32mraise\u001b[0m \u001b[0me\u001b[0m\u001b[0;34m\u001b[0m\u001b[0;34m\u001b[0m\u001b[0m\n\u001b[0m\u001b[1;32m    305\u001b[0m             \u001b[0;32melse\u001b[0m\u001b[0;34m:\u001b[0m\u001b[0;34m\u001b[0m\u001b[0;34m\u001b[0m\u001b[0m\n\u001b[1;32m    306\u001b[0m                 raise IndexError('HDU not found, possibly because the index '\n",
      "\u001b[0;32m~/anaconda3/lib/python3.7/site-packages/astropy/io/fits/hdu/hdulist.py\u001b[0m in \u001b[0;36m__getitem__\u001b[0;34m(self, key)\u001b[0m\n\u001b[1;32m    298\u001b[0m         \u001b[0;32mtry\u001b[0m\u001b[0;34m:\u001b[0m\u001b[0;34m\u001b[0m\u001b[0;34m\u001b[0m\u001b[0m\n\u001b[1;32m    299\u001b[0m             return self._try_while_unread_hdus(super().__getitem__,\n\u001b[0;32m--> 300\u001b[0;31m                                                self._positive_index_of(key))\n\u001b[0m\u001b[1;32m    301\u001b[0m         \u001b[0;32mexcept\u001b[0m \u001b[0mIndexError\u001b[0m \u001b[0;32mas\u001b[0m \u001b[0me\u001b[0m\u001b[0;34m:\u001b[0m\u001b[0;34m\u001b[0m\u001b[0;34m\u001b[0m\u001b[0m\n\u001b[1;32m    302\u001b[0m             \u001b[0;31m# Raise a more helpful IndexError if the file was not fully read.\u001b[0m\u001b[0;34m\u001b[0m\u001b[0;34m\u001b[0m\u001b[0;34m\u001b[0m\u001b[0m\n",
      "\u001b[0;32m~/anaconda3/lib/python3.7/site-packages/astropy/io/fits/hdu/hdulist.py\u001b[0m in \u001b[0;36m_try_while_unread_hdus\u001b[0;34m(self, func, *args, **kwargs)\u001b[0m\n\u001b[1;32m   1094\u001b[0m         \u001b[0;32mwhile\u001b[0m \u001b[0;32mTrue\u001b[0m\u001b[0;34m:\u001b[0m\u001b[0;34m\u001b[0m\u001b[0;34m\u001b[0m\u001b[0m\n\u001b[1;32m   1095\u001b[0m             \u001b[0;32mtry\u001b[0m\u001b[0;34m:\u001b[0m\u001b[0;34m\u001b[0m\u001b[0;34m\u001b[0m\u001b[0m\n\u001b[0;32m-> 1096\u001b[0;31m                 \u001b[0;32mreturn\u001b[0m \u001b[0mfunc\u001b[0m\u001b[0;34m(\u001b[0m\u001b[0;34m*\u001b[0m\u001b[0margs\u001b[0m\u001b[0;34m,\u001b[0m \u001b[0;34m**\u001b[0m\u001b[0mkwargs\u001b[0m\u001b[0;34m)\u001b[0m\u001b[0;34m\u001b[0m\u001b[0;34m\u001b[0m\u001b[0m\n\u001b[0m\u001b[1;32m   1097\u001b[0m             \u001b[0;32mexcept\u001b[0m \u001b[0mException\u001b[0m\u001b[0;34m:\u001b[0m\u001b[0;34m\u001b[0m\u001b[0;34m\u001b[0m\u001b[0m\n\u001b[1;32m   1098\u001b[0m                 \u001b[0;32mif\u001b[0m \u001b[0mself\u001b[0m\u001b[0;34m.\u001b[0m\u001b[0m_read_next_hdu\u001b[0m\u001b[0;34m(\u001b[0m\u001b[0;34m)\u001b[0m\u001b[0;34m:\u001b[0m\u001b[0;34m\u001b[0m\u001b[0;34m\u001b[0m\u001b[0m\n",
      "\u001b[0;31mIndexError\u001b[0m: list index out of range"
     ]
    }
   ],
   "source": [
    "g.run_simple()"
   ]
  },
  {
   "cell_type": "markdown",
   "metadata": {},
   "source": [
    "To Do:\n",
    "\n",
    "* combine images if multiple are returned\n",
    "* add psf images to github repository\n",
    "* finish running for one galaxy!\n",
    "* check if image already exists"
   ]
  },
  {
   "cell_type": "code",
   "execution_count": null,
   "metadata": {},
   "outputs": [],
   "source": []
  }
 ],
 "metadata": {
  "kernelspec": {
   "display_name": "Python 3",
   "language": "python",
   "name": "python3"
  },
  "language_info": {
   "codemirror_mode": {
    "name": "ipython",
    "version": 3
   },
   "file_extension": ".py",
   "mimetype": "text/x-python",
   "name": "python",
   "nbconvert_exporter": "python",
   "pygments_lexer": "ipython3",
   "version": "3.7.4"
  }
 },
 "nbformat": 4,
 "nbformat_minor": 2
}
