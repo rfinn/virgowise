{
 "cells": [
  {
   "cell_type": "code",
   "execution_count": 12,
   "metadata": {},
   "outputs": [],
   "source": [
    "from matplotlib import pyplot as plt\n",
    "import numpy as np\n",
    "\n",
    "from photutils.aperture import CircularAperture\n",
    "from astropy import units as u\n",
    "from astropy.coordinates import SkyCoord\n",
    "from photutils.aperture import SkyCircularAperture\n",
    "from photutils.aperture import aperture_photometry\n",
    "import os\n",
    "import glob\n",
    "\n",
    "from astropy.io import fits"
   ]
  },
  {
   "cell_type": "code",
   "execution_count": 2,
   "metadata": {},
   "outputs": [],
   "source": [
    "positions = [(30., 30.), (40., 40.)]\n",
    "aperture = CircularAperture(positions, r=3.)"
   ]
  },
  {
   "cell_type": "code",
   "execution_count": 3,
   "metadata": {},
   "outputs": [],
   "source": [
    "positions = SkyCoord(l=[1.2, 2.3] * u.deg, b=[0.1, 0.2] * u.deg,frame='galactic')\n",
    "aperture = SkyCircularAperture(positions, r=4. * u.arcsec)"
   ]
  },
  {
   "cell_type": "code",
   "execution_count": 13,
   "metadata": {},
   "outputs": [],
   "source": [
    "imdir = '/home/rfinn/research/wisesize/test-galaxies-snr-imexam/'\n",
    "os.chdir(imdir)\n",
    "\n"
   ]
  },
  {
   "cell_type": "code",
   "execution_count": 14,
   "metadata": {},
   "outputs": [],
   "source": [
    "# create aperture of 15 and 30 arcsec\n",
    "radius_arcsec = np.array([15,30],'f')\n",
    "wise_pixelscale = 2.75 # arcsec per pixel\n",
    "radius_pixels = radius_arcsec/wise_pixelscale"
   ]
  },
  {
   "cell_type": "code",
   "execution_count": 15,
   "metadata": {},
   "outputs": [
    {
     "name": "stdout",
     "output_type": "stream",
     "text": [
      "['unwise-VFID0488-w3-img-m-trim.fits', 'unwise-VFID0488-w3-std-m-trim.fits', 'unwise-VFID0484-w3-img-m-trim.fits', 'unwise-VFID0484-w3-std-m-trim.fits']\n"
     ]
    }
   ],
   "source": [
    "# read in an image\n",
    "images = glob.glob('unwise*.fits')\n",
    "print(images)\n"
   ]
  },
  {
   "cell_type": "code",
   "execution_count": 20,
   "metadata": {},
   "outputs": [
    {
     "name": "stdout",
     "output_type": "stream",
     "text": [
      "unwise-VFID0488-w3-img-m-trim.fits\n",
      "\n",
      "rad = 5.45\n",
      " id xcenter ycenter    aperture_sum  \n",
      "      pix     pix                    \n",
      "--- ------- ------- -----------------\n",
      "  1    91.0    91.0 748371.0126961281\n",
      "\n",
      "rad = 10.91\n",
      " id xcenter ycenter    aperture_sum  \n",
      "      pix     pix                    \n",
      "--- ------- ------- -----------------\n",
      "  1    91.0    91.0 1302219.471751398\n",
      "\n",
      "\n",
      "unwise-VFID0488-w3-std-m-trim.fits\n",
      "\n",
      "rad = 5.45\n",
      " id xcenter ycenter    aperture_sum  \n",
      "      pix     pix                    \n",
      "--- ------- ------- -----------------\n",
      "  1    91.0    91.0 40278.87164932801\n",
      "\n",
      "rad = 10.91\n",
      " id xcenter ycenter    aperture_sum   \n",
      "      pix     pix                     \n",
      "--- ------- ------- ------------------\n",
      "  1    91.0    91.0 156156.03579059834\n",
      "\n",
      "\n",
      "unwise-VFID0484-w3-img-m-trim.fits\n",
      "\n",
      "rad = 5.45\n",
      " id xcenter ycenter    aperture_sum  \n",
      "      pix     pix                    \n",
      "--- ------- ------- -----------------\n",
      "  1    10.5    10.5 771711.9312537478\n",
      "\n",
      "rad = 10.91\n",
      " id xcenter ycenter    aperture_sum   \n",
      "      pix     pix                     \n",
      "--- ------- ------- ------------------\n",
      "  1    10.5    10.5 1290939.6989797354\n",
      "\n",
      "\n",
      "unwise-VFID0484-w3-std-m-trim.fits\n",
      "\n",
      "rad = 5.45\n",
      " id xcenter ycenter    aperture_sum  \n",
      "      pix     pix                    \n",
      "--- ------- ------- -----------------\n",
      "  1    10.5    10.5 40312.15695634747\n",
      "\n",
      "rad = 10.91\n",
      " id xcenter ycenter    aperture_sum   \n",
      "      pix     pix                     \n",
      "--- ------- ------- ------------------\n",
      "  1    10.5    10.5 152038.39881323322\n",
      "\n",
      "\n"
     ]
    }
   ],
   "source": [
    "for im in images:\n",
    "    data = fits.getdata(im)\n",
    "    pos = [(data.shape[0]/2,data.shape[1]/2)]\n",
    "    print(im)\n",
    "    for r in radius_pixels:\n",
    "        print()\n",
    "        print('rad = {:.2f}'.format(r))\n",
    "        aperture = CircularAperture(pos,r)\n",
    "        phot_table = aperture_photometry(data, aperture)\n",
    "        print(phot_table)\n",
    "    print(\"\")\n",
    "    print()"
   ]
  },
  {
   "cell_type": "code",
   "execution_count": null,
   "metadata": {},
   "outputs": [],
   "source": []
  }
 ],
 "metadata": {
  "kernelspec": {
   "display_name": "Python 3",
   "language": "python",
   "name": "python3"
  },
  "language_info": {
   "codemirror_mode": {
    "name": "ipython",
    "version": 3
   },
   "file_extension": ".py",
   "mimetype": "text/x-python",
   "name": "python",
   "nbconvert_exporter": "python",
   "pygments_lexer": "ipython3",
   "version": "3.7.4"
  }
 },
 "nbformat": 4,
 "nbformat_minor": 2
}
